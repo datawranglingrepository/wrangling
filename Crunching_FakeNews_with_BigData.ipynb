{
 "cells": [
  {
   "cell_type": "markdown",
   "metadata": {},
   "source": [
    "# Acquiring Data"
   ]
  },
  {
   "cell_type": "code",
   "execution_count": 1,
   "metadata": {},
   "outputs": [],
   "source": [
    "#importing and creating a spark session, to establish the session for reading through those data points\n",
    "from pyspark.sql import SparkSession\n",
    "from pyspark.sql import SQLContext\n",
    "\n",
    "inSpark = SparkSession.builder.appName('Fake News Analyzer').master(\"local[*]\").getOrCreate()\n",
    "\n",
    "dataset_inSpark = inSpark.read.csv('Fake.csv', inferSchema=True, header =True)\n"
   ]
  },
  {
   "cell_type": "markdown",
   "metadata": {},
   "source": [
    "# Data Preparation"
   ]
  },
  {
   "cell_type": "code",
   "execution_count": 2,
   "metadata": {},
   "outputs": [],
   "source": [
    "#data preprocessing with filtering as rdd, handling stopwords and tokenizing\n",
    "from nltk.corpus import stopwords\n",
    "import re as regex\n",
    "\n",
    "fakeComments = dataset_inSpark.rdd.map(lambda i : i['title']).filter(lambda i: i is not None)   \n",
    "#rdd.map is latest spark version instead of .map, since dataframe does not have map running on spark environ\n",
    "\n",
    "stopWords = stopwords.words(\"english\")\n"
   ]
  },
  {
   "cell_type": "markdown",
   "metadata": {},
   "source": [
    "## Data Cleaning"
   ]
  },
  {
   "cell_type": "code",
   "execution_count": 3,
   "metadata": {},
   "outputs": [],
   "source": [
    "tokens = fakeComments.map( lambda document: document.strip().lower()).map( lambda document: regex.split(\" \", document)).map( lambda word: [i for i in word if i.isalpha()]).map( lambda word: [i for i in word if len(i) > 2] ).map( lambda word: [i for i in word if i not in stopWords]).zipWithIndex()"
   ]
  },
  {
   "cell_type": "markdown",
   "metadata": {},
   "source": [
    "# Data Vectorization"
   ]
  },
  {
   "cell_type": "code",
   "execution_count": 4,
   "metadata": {},
   "outputs": [],
   "source": [
    "from pyspark.ml import feature\n",
    "\n",
    "#data preprocessing on mining textual data up with TF-IDF\n",
    "sqlContext = SQLContext(sparkContext=inSpark.sparkContext, sparkSession=inSpark)\n",
    "\n",
    "#Term Frequency: the RDD columnar creation of a reference Indexes and list of words from title\n",
    "dF1 = sqlContext.createDataFrame(tokens, [\"title_Words\",'refIndex'])\n",
    "vectorizingText = feature.CountVectorizer(inputCol=\"title_Words\", outputCol=\"rawFeatures\", vocabSize=10000, minDF=10.0)\n",
    "vectorizedModel = vectorizingText.fit(dF1)\n",
    "resultVectorized = vectorizedModel.transform(dF1)\n"
   ]
  },
  {
   "cell_type": "code",
   "execution_count": 5,
   "metadata": {},
   "outputs": [],
   "source": [
    "#Inverse Document Frequency\n",
    "idf = feature.IDF(inputCol=\"rawFeatures\", outputCol=\"features\")\n",
    "idfModel = idf.fit(resultVectorized)\n",
    "tfidf_result = idfModel.transform(resultVectorized) \n"
   ]
  },
  {
   "cell_type": "markdown",
   "metadata": {},
   "source": [
    "# Modelling"
   ]
  },
  {
   "cell_type": "code",
   "execution_count": 6,
   "metadata": {},
   "outputs": [],
   "source": [
    "totalTopics = 3\n",
    "maxIter = 10\n",
    "from pyspark.mllib.clustering import LDA as MLlibLDA\n",
    "from pyspark.mllib.linalg import Vectors as MLlibVectors\n",
    "\n",
    "model_LDA = MLlibLDA.train(tfidf_result[['refIndex','features']].rdd.mapValues(MLlibVectors.fromML).map(list),k=totalTopics, maxIterations = maxIter)"
   ]
  },
  {
   "cell_type": "code",
   "execution_count": 7,
   "metadata": {},
   "outputs": [],
   "source": [
    "#extracting the top 3 words in each topic and cognizance the weights of those words\n",
    "\n",
    "wordVocab = vectorizedModel.vocabulary\n",
    "numberofWords = 3\n",
    "\n",
    "topicIndices = inSpark.createDataFrame(model_LDA.describeTopics(maxTermsPerTopic = numberofWords))"
   ]
  },
  {
   "cell_type": "code",
   "execution_count": 8,
   "metadata": {},
   "outputs": [],
   "source": [
    "#returning key topics\n",
    "def yieldedTopics(topic):\n",
    "    terms = topic[0]\n",
    "    result = []\n",
    "    for i in range(numberofWords):\n",
    "        term = wordVocab[terms[i]]\n",
    "        result.append(term)\n",
    "    return result\n",
    "\n",
    "keyTopics = topicIndices.rdd.map(lambda topic: yieldedTopics(topic)).collect()\n"
   ]
  },
  {
   "cell_type": "code",
   "execution_count": 9,
   "metadata": {},
   "outputs": [
    {
     "name": "stdout",
     "output_type": "stream",
     "text": [
      "Topic0\n",
      "trump\n",
      "obama\n",
      "hillary\n",
      "\n",
      "\n",
      "Topic1\n",
      "trump\n",
      "hillary\n",
      "obama\n",
      "\n",
      "\n",
      "Topic2\n",
      "trump\n",
      "obama\n",
      "hillary\n",
      "\n",
      "\n"
     ]
    }
   ],
   "source": [
    "#view the key topics\n",
    "for topic in range(len(keyTopics)):\n",
    "    print(\"Topic\" + str(topic))\n",
    "    for term in keyTopics[topic]:\n",
    "        print(term)\n",
    "    print('\\n')"
   ]
  },
  {
   "cell_type": "code",
   "execution_count": null,
   "metadata": {},
   "outputs": [],
   "source": [
    "#Deploy on your choice - web frameworks, apps, cloud, etc..."
   ]
  }
 ],
 "metadata": {
  "kernelspec": {
   "display_name": "Python 3",
   "language": "python",
   "name": "python3"
  },
  "language_info": {
   "codemirror_mode": {
    "name": "ipython",
    "version": 3
   },
   "file_extension": ".py",
   "mimetype": "text/x-python",
   "name": "python",
   "nbconvert_exporter": "python",
   "pygments_lexer": "ipython3",
   "version": "3.7.6"
  },
  "widgets": {
   "application/vnd.jupyter.widget-state+json": {
    "state": {},
    "version_major": 2,
    "version_minor": 0
   }
  }
 },
 "nbformat": 4,
 "nbformat_minor": 4
}
